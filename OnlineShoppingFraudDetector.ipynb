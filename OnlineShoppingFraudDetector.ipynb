{
  "nbformat": 4,
  "nbformat_minor": 0,
  "metadata": {
    "colab": {
      "provenance": []
    },
    "kernelspec": {
      "name": "python3",
      "display_name": "Python 3"
    },
    "language_info": {
      "name": "python"
    }
  },
  "cells": [
    {
      "cell_type": "markdown",
      "source": [
        "# PROJETO DE DETECÇÃO DE FRAUDES EM COMPRAS ONLINE\n",
        "\n",
        "\n"
      ],
      "metadata": {
        "id": "TJJzZBwb8EG3"
      }
    },
    {
      "cell_type": "markdown",
      "source": [
        "## Descrição"
      ],
      "metadata": {
        "id": "9UZWmLyBPfh7"
      }
    },
    {
      "cell_type": "markdown",
      "source": [
        "FONTE: https://www.kaggle.com/datasets/ealaxi/paysim1?resource=download\n",
        "\n",
        "IDEALIZADO EM: https://medium.com/coders-camp/230-machine-learning-projects-with-python-5d0c7abf8265"
      ],
      "metadata": {
        "id": "3RO3QJDs8JTb"
      }
    },
    {
      "cell_type": "markdown",
      "source": [
        "## IMPORT DE BIBLIOTECAS"
      ],
      "metadata": {
        "id": "6eko2JmF8OXs"
      }
    },
    {
      "cell_type": "markdown",
      "source": [
        "### conectar com o google drive"
      ],
      "metadata": {
        "id": "_bogk87g97XP"
      }
    },
    {
      "cell_type": "code",
      "source": [
        "from google.colab import drive\n",
        "drive.mount('/content/drive')"
      ],
      "metadata": {
        "colab": {
          "base_uri": "https://localhost:8080/"
        },
        "id": "foBCUf5v9MZH",
        "outputId": "3947a561-da54-4d01-e2fa-f4199cd03615"
      },
      "execution_count": 64,
      "outputs": [
        {
          "output_type": "stream",
          "name": "stdout",
          "text": [
            "Drive already mounted at /content/drive; to attempt to forcibly remount, call drive.mount(\"/content/drive\", force_remount=True).\n"
          ]
        }
      ]
    },
    {
      "cell_type": "markdown",
      "source": [
        "### integrar spark no colab\n",
        "https://www.analyticsvidhya.com/blog/2020/11/a-must-read-guide-on-how-to-work-with-pyspark-on-google-colab-for-data-scientists/"
      ],
      "metadata": {
        "id": "j7C28dFs9_4Z"
      }
    },
    {
      "cell_type": "code",
      "source": [
        "!apt-get install openjdk-8-jdk-headless -qq > /dev/null # download Java\n"
      ],
      "metadata": {
        "id": "aNZ096pBAZGq"
      },
      "execution_count": 65,
      "outputs": []
    },
    {
      "cell_type": "code",
      "source": [
        "!wget -q https://www-us.apache.org/dist/spark/spark-3.3.1/spark-3.3.1-bin-hadoop2.7.tgz #  install Apache Spark 3.0.1 with Hadoop 2.7\n"
      ],
      "metadata": {
        "id": "o4X2ZuCnAaRA"
      },
      "execution_count": 66,
      "outputs": []
    },
    {
      "cell_type": "code",
      "source": [
        "!tar xf spark-3.3.1-bin-hadoop3.tgz # unzip that folder\n"
      ],
      "metadata": {
        "id": "sUKRTIS39tZs",
        "colab": {
          "base_uri": "https://localhost:8080/"
        },
        "outputId": "74c99afa-d5fa-48ef-a9ba-1ed9d7adaeda"
      },
      "execution_count": 67,
      "outputs": [
        {
          "output_type": "stream",
          "name": "stdout",
          "text": [
            "tar: spark-3.3.1-bin-hadoop3.tgz: Cannot open: No such file or directory\n",
            "tar: Error is not recoverable: exiting now\n"
          ]
        }
      ]
    },
    {
      "cell_type": "code",
      "source": [
        "!pip install -q findspark # install findspark library"
      ],
      "metadata": {
        "id": "lkBu0BFB_gmP"
      },
      "execution_count": 68,
      "outputs": []
    },
    {
      "cell_type": "markdown",
      "source": [
        "### iniciar ambiente spark"
      ],
      "metadata": {
        "id": "DEE98M5W-hie"
      }
    },
    {
      "cell_type": "code",
      "source": [
        "import os\n",
        "os.environ[\"JAVA_HOME\"] = \"/usr/lib/jvm/java-8-openjdk-amd64\"\n",
        "os.environ[\"SPARK_HOME\"] = \"/content/drive/MyDrive/..Python_Codes/Projeto_fraude_compras_online/content/spark-3.3.1-bin-hadoop3\""
      ],
      "metadata": {
        "id": "kq9_xYf7-jfd"
      },
      "execution_count": 69,
      "outputs": []
    },
    {
      "cell_type": "code",
      "source": [
        "import findspark\n",
        "findspark.init()"
      ],
      "metadata": {
        "id": "u9LMqiRh-qPZ"
      },
      "execution_count": 70,
      "outputs": []
    },
    {
      "cell_type": "code",
      "source": [
        "findspark.find()\n"
      ],
      "metadata": {
        "id": "ahmWZgQr-rt2",
        "colab": {
          "base_uri": "https://localhost:8080/",
          "height": 0
        },
        "outputId": "02a7314e-4c6d-4e48-e143-07f7b0af4e06"
      },
      "execution_count": 71,
      "outputs": [
        {
          "output_type": "execute_result",
          "data": {
            "text/plain": [
              "'/content/drive/MyDrive/..Python_Codes/Projeto_fraude_compras_online/content/spark-3.3.1-bin-hadoop3'"
            ],
            "application/vnd.google.colaboratory.intrinsic+json": {
              "type": "string"
            }
          },
          "metadata": {},
          "execution_count": 71
        }
      ]
    },
    {
      "cell_type": "code",
      "source": [
        "#  change the permissions on its parent directory\n",
        "!chmod 755 -R '/content/drive/MyDrive/..Python_Codes/Projeto_fraude_compras_online/content/spark-3.3.1-bin-hadoop3/./bin'\n"
      ],
      "metadata": {
        "id": "ua1xWXgFGSEC"
      },
      "execution_count": 72,
      "outputs": []
    },
    {
      "cell_type": "code",
      "source": [
        "# import SparkSession from pyspark.sql and create a SparkSession, which is the entry point to Spark.\n",
        "from pyspark.sql import SparkSession\n",
        "\n",
        "spark = SparkSession.builder\\\n",
        "        .master(\"local\")\\\n",
        "        .appName(\"Colab\")\\\n",
        "        .config('spark.ui.port', '4050')\\\n",
        "        .getOrCreate()"
      ],
      "metadata": {
        "id": "scA00yry-_H2"
      },
      "execution_count": 73,
      "outputs": []
    },
    {
      "cell_type": "code",
      "source": [
        "spark\n"
      ],
      "metadata": {
        "id": "HFUUP59e_F11",
        "colab": {
          "base_uri": "https://localhost:8080/",
          "height": 0
        },
        "outputId": "8572b1da-81cb-46ac-a4d2-c52d2cd5ee68"
      },
      "execution_count": 74,
      "outputs": [
        {
          "output_type": "execute_result",
          "data": {
            "text/plain": [
              "<pyspark.sql.session.SparkSession at 0x7fc87f89bd00>"
            ],
            "text/html": [
              "\n",
              "            <div>\n",
              "                <p><b>SparkSession - in-memory</b></p>\n",
              "                \n",
              "        <div>\n",
              "            <p><b>SparkContext</b></p>\n",
              "\n",
              "            <p><a href=\"http://13a220449513:4050\">Spark UI</a></p>\n",
              "\n",
              "            <dl>\n",
              "              <dt>Version</dt>\n",
              "                <dd><code>v3.3.1</code></dd>\n",
              "              <dt>Master</dt>\n",
              "                <dd><code>local</code></dd>\n",
              "              <dt>AppName</dt>\n",
              "                <dd><code>Colab</code></dd>\n",
              "            </dl>\n",
              "        </div>\n",
              "        \n",
              "            </div>\n",
              "        "
            ]
          },
          "metadata": {},
          "execution_count": 74
        }
      ]
    },
    {
      "cell_type": "markdown",
      "source": [
        "### imports gerais"
      ],
      "metadata": {
        "id": "F-iYVw36yqwI"
      }
    },
    {
      "cell_type": "code",
      "source": [
        "import pandas as pd\n",
        "import numpy as np\n",
        "import pyspark.sql.functions as F\n",
        "from pyspark.sql.types import StringType\n",
        "from pyspark.sql.functions import udf"
      ],
      "metadata": {
        "id": "F-39pQHAyvQ4"
      },
      "execution_count": 84,
      "outputs": []
    },
    {
      "cell_type": "markdown",
      "source": [
        "## IMPORT DE FUNÇÕES"
      ],
      "metadata": {
        "id": "-ZUMnLxB8a2T"
      }
    },
    {
      "cell_type": "code",
      "source": [
        "def translate(mapping):\n",
        "      def translate_(col):\n",
        "          return mapping.get(col)\n",
        "      return udf(translate_, StringType())"
      ],
      "metadata": {
        "id": "0SbUxypX9L9I"
      },
      "execution_count": 85,
      "outputs": []
    },
    {
      "cell_type": "markdown",
      "source": [
        "## IMPORT DE DADOS"
      ],
      "metadata": {
        "id": "4QnWLp8M8Rjg"
      }
    },
    {
      "cell_type": "code",
      "source": [
        "#@title Escolha de método de execução (Pandas ou PySpark) { form-width: \"10%\" }\n",
        "METHOD = \"PYSPARK\" #@param [\"PANDAS\", \"PYSPARK\"]\n"
      ],
      "metadata": {
        "cellView": "form",
        "id": "NBphzeuuHZST"
      },
      "execution_count": 76,
      "outputs": []
    },
    {
      "cell_type": "code",
      "source": [
        "if METHOD == 'PYSPARK':\n",
        "  df = spark.read.csv(\"/content/drive/MyDrive/..Python_Codes/Projeto_fraude_compras_online/content/PS_20174392719_1491204439457_log.csv\", header=True, inferSchema=True)\n",
        "elif METHOD == 'PANDAS':\n",
        "  df = pd.read_csv(\"/content/drive/MyDrive/..Python_Codes/Projeto_fraude_compras_online/content/PS_20174392719_1491204439457_log.csv\", header=0)  \n"
      ],
      "metadata": {
        "id": "VpYTcE8O9LG3"
      },
      "execution_count": 77,
      "outputs": []
    },
    {
      "cell_type": "code",
      "source": [
        "if METHOD == 'PYSPARK':\n",
        "  print(f\"Esse dataframe tem {df.count()} linhas e {len(df.columns)} colunas\")\n",
        "  df.show() \n",
        "\n",
        "elif METHOD == 'PANDAS':\n",
        "  print(f\"Esse dataframe tem {len(df)} linhas e {len(df.columns)} colunas\") \n",
        "  display(df) \n"
      ],
      "metadata": {
        "colab": {
          "base_uri": "https://localhost:8080/"
        },
        "id": "MZyuITnFFWxg",
        "outputId": "47b923cc-7aa6-45b5-9b88-4e540eb033fa"
      },
      "execution_count": 78,
      "outputs": [
        {
          "output_type": "stream",
          "name": "stdout",
          "text": [
            "Esse dataframe tem 6362620 linhas e 11 colunas\n",
            "+----+--------+---------+-----------+-------------+--------------+-----------+--------------+--------------+-------+--------------+\n",
            "|step|    type|   amount|   nameOrig|oldbalanceOrg|newbalanceOrig|   nameDest|oldbalanceDest|newbalanceDest|isFraud|isFlaggedFraud|\n",
            "+----+--------+---------+-----------+-------------+--------------+-----------+--------------+--------------+-------+--------------+\n",
            "|   1| PAYMENT|  9839.64|C1231006815|     170136.0|     160296.36|M1979787155|           0.0|           0.0|      0|             0|\n",
            "|   1| PAYMENT|  1864.28|C1666544295|      21249.0|      19384.72|M2044282225|           0.0|           0.0|      0|             0|\n",
            "|   1|TRANSFER|    181.0|C1305486145|        181.0|           0.0| C553264065|           0.0|           0.0|      1|             0|\n",
            "|   1|CASH_OUT|    181.0| C840083671|        181.0|           0.0|  C38997010|       21182.0|           0.0|      1|             0|\n",
            "|   1| PAYMENT| 11668.14|C2048537720|      41554.0|      29885.86|M1230701703|           0.0|           0.0|      0|             0|\n",
            "|   1| PAYMENT|  7817.71|  C90045638|      53860.0|      46042.29| M573487274|           0.0|           0.0|      0|             0|\n",
            "|   1| PAYMENT|  7107.77| C154988899|     183195.0|     176087.23| M408069119|           0.0|           0.0|      0|             0|\n",
            "|   1| PAYMENT|  7861.64|C1912850431|    176087.23|     168225.59| M633326333|           0.0|           0.0|      0|             0|\n",
            "|   1| PAYMENT|  4024.36|C1265012928|       2671.0|           0.0|M1176932104|           0.0|           0.0|      0|             0|\n",
            "|   1|   DEBIT|  5337.77| C712410124|      41720.0|      36382.23| C195600860|       41898.0|      40348.79|      0|             0|\n",
            "|   1|   DEBIT|  9644.94|C1900366749|       4465.0|           0.0| C997608398|       10845.0|     157982.12|      0|             0|\n",
            "|   1| PAYMENT|  3099.97| C249177573|      20771.0|      17671.03|M2096539129|           0.0|           0.0|      0|             0|\n",
            "|   1| PAYMENT|  2560.74|C1648232591|       5070.0|       2509.26| M972865270|           0.0|           0.0|      0|             0|\n",
            "|   1| PAYMENT| 11633.76|C1716932897|      10127.0|           0.0| M801569151|           0.0|           0.0|      0|             0|\n",
            "|   1| PAYMENT|  4098.78|C1026483832|     503264.0|     499165.22|M1635378213|           0.0|           0.0|      0|             0|\n",
            "|   1|CASH_OUT|229133.94| C905080434|      15325.0|           0.0| C476402209|        5083.0|      51513.44|      0|             0|\n",
            "|   1| PAYMENT|  1563.82| C761750706|        450.0|           0.0|M1731217984|           0.0|           0.0|      0|             0|\n",
            "|   1| PAYMENT|  1157.86|C1237762639|      21156.0|      19998.14|M1877062907|           0.0|           0.0|      0|             0|\n",
            "|   1| PAYMENT|   671.64|C2033524545|      15123.0|      14451.36| M473053293|           0.0|           0.0|      0|             0|\n",
            "|   1|TRANSFER| 215310.3|C1670993182|        705.0|           0.0|C1100439041|       22425.0|           0.0|      0|             0|\n",
            "+----+--------+---------+-----------+-------------+--------------+-----------+--------------+--------------+-------+--------------+\n",
            "only showing top 20 rows\n",
            "\n"
          ]
        }
      ]
    },
    {
      "cell_type": "markdown",
      "source": [
        "## TRATAMENTO E LIMPEZA DE DADOS"
      ],
      "metadata": {
        "id": "dYkT1RGw8TEC"
      }
    },
    {
      "cell_type": "code",
      "source": [
        "if METHOD == 'PYSPARK':\n",
        "  df_clean = df.na.drop()\n",
        "\n",
        "  # df_clean = df_clean.withColumn(\"type_copy\", df[\"type\"])\n",
        "\n",
        "  types = df_clean.select(\"type\").distinct().rdd.flatMap(lambda x: x).collect()\n",
        "  types_expr = [F.when(F.col(\"type\") == ty, 1).otherwise(0).alias(\"type_\" + ty) for ty in types]\n",
        "  df_clean = df_clean.select(\"*\", \"type\", *types_expr)\n",
        "\n",
        "  df.withColumn(\"type_num\", translate({\"CASH_OUT\": 1, \n",
        "                                    \"PAYMENT\": 2, \n",
        "                                    \"CASH_IN\": 3, \n",
        "                                    \"TRANSFER\": 4,\n",
        "                                    \"DEBIT\": 5})(\"type\"))\n",
        "\n",
        "  df.withColumn(\"isFraud_str\", translate({0: \"No Fraud\", 1: \"Fraud\"})(\"isFraud\"))\n",
        "\n",
        "  # Indicador de quanto removeu dos dados\n",
        "  print(f\"\"\"\n",
        "  Sobraram neste dataframe {df_clean.count()} linhas e {len(df_clean.columns)} colunas\n",
        "  Equivalente à {round(100*(df_clean.count()/df.count()),2)} % das linhas originais e {round(100*(len(df_clean.columns)/len(df.columns)),2)} % das colunas originais\n",
        "  \"\"\")\n",
        "\n",
        "  df_clean.show() \n",
        "\n",
        "elif METHOD == 'PANDAS':\n",
        "  df_clean = df.dropna()\n",
        "\n",
        "  # One Hot Encoding e mapping para substituir string por número (necessário para ML)\n",
        "  df_clean['type_copy'] = df_clean['type']\n",
        "  df_clean = pd.get_dummies(df_clean, columns=['type'])\n",
        "  df_clean = df_clean.rename(columns={\"type_copy\": \"type\"})\n",
        "\n",
        "  # mapping\n",
        "  df_clean[\"type_num\"] = df_clean[\"type\"].map({\"CASH_OUT\": 1, \n",
        "                                        \"PAYMENT\": 2, \n",
        "                                          \"CASH_IN\": 3, \n",
        "                                          \"TRANSFER\": 4,\n",
        "                                          \"DEBIT\": 5})\n",
        "\n",
        "  df_clean[\"isFraud_str\"] = df_clean[\"isFraud\"].map({0: \"No Fraud\", 1: \"Fraud\"})\n",
        "\n",
        "  # Indicador de quanto removeu dos dados\n",
        "  print(f\"\"\"\n",
        "  Sobraram neste dataframe {len(df_clean)} linhas e {len(df_clean.columns)} colunas\n",
        "  Equivalente à {round(100*(len(df_clean)/len(df)),2)} % das linhas originais e {round(100*(len(df_clean.columns)/len(df.columns)),2)} % das colunas originais\n",
        "  \"\"\")\n",
        "\n",
        "  display(df_clean)\n",
        "\n",
        "\n"
      ],
      "metadata": {
        "id": "m6f71Hgg9M6O",
        "colab": {
          "base_uri": "https://localhost:8080/"
        },
        "outputId": "91a73fbb-a2c7-4af5-a997-33263d4f1004"
      },
      "execution_count": 87,
      "outputs": [
        {
          "output_type": "stream",
          "name": "stdout",
          "text": [
            "\n",
            "  Sobraram neste dataframe 6362620 linhas e 17 colunas\n",
            "  Equivalente à 100.0 % das linas originais e 154.55 % das colunas originais\n",
            "  \n",
            "+----+--------+---------+-----------+-------------+--------------+-----------+--------------+--------------+-------+--------------+--------+-------------+------------+-------------+------------+----------+\n",
            "|step|    type|   amount|   nameOrig|oldbalanceOrg|newbalanceOrig|   nameDest|oldbalanceDest|newbalanceDest|isFraud|isFlaggedFraud|    type|type_TRANSFER|type_CASH_IN|type_CASH_OUT|type_PAYMENT|type_DEBIT|\n",
            "+----+--------+---------+-----------+-------------+--------------+-----------+--------------+--------------+-------+--------------+--------+-------------+------------+-------------+------------+----------+\n",
            "|   1| PAYMENT|  9839.64|C1231006815|     170136.0|     160296.36|M1979787155|           0.0|           0.0|      0|             0| PAYMENT|            0|           0|            0|           1|         0|\n",
            "|   1| PAYMENT|  1864.28|C1666544295|      21249.0|      19384.72|M2044282225|           0.0|           0.0|      0|             0| PAYMENT|            0|           0|            0|           1|         0|\n",
            "|   1|TRANSFER|    181.0|C1305486145|        181.0|           0.0| C553264065|           0.0|           0.0|      1|             0|TRANSFER|            1|           0|            0|           0|         0|\n",
            "|   1|CASH_OUT|    181.0| C840083671|        181.0|           0.0|  C38997010|       21182.0|           0.0|      1|             0|CASH_OUT|            0|           0|            1|           0|         0|\n",
            "|   1| PAYMENT| 11668.14|C2048537720|      41554.0|      29885.86|M1230701703|           0.0|           0.0|      0|             0| PAYMENT|            0|           0|            0|           1|         0|\n",
            "|   1| PAYMENT|  7817.71|  C90045638|      53860.0|      46042.29| M573487274|           0.0|           0.0|      0|             0| PAYMENT|            0|           0|            0|           1|         0|\n",
            "|   1| PAYMENT|  7107.77| C154988899|     183195.0|     176087.23| M408069119|           0.0|           0.0|      0|             0| PAYMENT|            0|           0|            0|           1|         0|\n",
            "|   1| PAYMENT|  7861.64|C1912850431|    176087.23|     168225.59| M633326333|           0.0|           0.0|      0|             0| PAYMENT|            0|           0|            0|           1|         0|\n",
            "|   1| PAYMENT|  4024.36|C1265012928|       2671.0|           0.0|M1176932104|           0.0|           0.0|      0|             0| PAYMENT|            0|           0|            0|           1|         0|\n",
            "|   1|   DEBIT|  5337.77| C712410124|      41720.0|      36382.23| C195600860|       41898.0|      40348.79|      0|             0|   DEBIT|            0|           0|            0|           0|         1|\n",
            "|   1|   DEBIT|  9644.94|C1900366749|       4465.0|           0.0| C997608398|       10845.0|     157982.12|      0|             0|   DEBIT|            0|           0|            0|           0|         1|\n",
            "|   1| PAYMENT|  3099.97| C249177573|      20771.0|      17671.03|M2096539129|           0.0|           0.0|      0|             0| PAYMENT|            0|           0|            0|           1|         0|\n",
            "|   1| PAYMENT|  2560.74|C1648232591|       5070.0|       2509.26| M972865270|           0.0|           0.0|      0|             0| PAYMENT|            0|           0|            0|           1|         0|\n",
            "|   1| PAYMENT| 11633.76|C1716932897|      10127.0|           0.0| M801569151|           0.0|           0.0|      0|             0| PAYMENT|            0|           0|            0|           1|         0|\n",
            "|   1| PAYMENT|  4098.78|C1026483832|     503264.0|     499165.22|M1635378213|           0.0|           0.0|      0|             0| PAYMENT|            0|           0|            0|           1|         0|\n",
            "|   1|CASH_OUT|229133.94| C905080434|      15325.0|           0.0| C476402209|        5083.0|      51513.44|      0|             0|CASH_OUT|            0|           0|            1|           0|         0|\n",
            "|   1| PAYMENT|  1563.82| C761750706|        450.0|           0.0|M1731217984|           0.0|           0.0|      0|             0| PAYMENT|            0|           0|            0|           1|         0|\n",
            "|   1| PAYMENT|  1157.86|C1237762639|      21156.0|      19998.14|M1877062907|           0.0|           0.0|      0|             0| PAYMENT|            0|           0|            0|           1|         0|\n",
            "|   1| PAYMENT|   671.64|C2033524545|      15123.0|      14451.36| M473053293|           0.0|           0.0|      0|             0| PAYMENT|            0|           0|            0|           1|         0|\n",
            "|   1|TRANSFER| 215310.3|C1670993182|        705.0|           0.0|C1100439041|       22425.0|           0.0|      0|             0|TRANSFER|            1|           0|            0|           0|         0|\n",
            "+----+--------+---------+-----------+-------------+--------------+-----------+--------------+--------------+-------+--------------+--------+-------------+------------+-------------+------------+----------+\n",
            "only showing top 20 rows\n",
            "\n"
          ]
        }
      ]
    },
    {
      "cell_type": "markdown",
      "source": [
        "## ANÁLISE"
      ],
      "metadata": {
        "id": "eveMGhL68Vv6"
      }
    },
    {
      "cell_type": "code",
      "source": [
        "df_info = df_clean.copy()\n",
        "\n",
        "# pie chart\n",
        "transaction_type = df_info[\"type\"].value_counts()\n",
        "transactions = transaction_type.index\n",
        "quantity = transaction_type.values\n",
        "\n",
        "import plotly.express as px\n",
        "figure = px.pie(df_info, \n",
        "             values=quantity, \n",
        "             names=transactions,hole = 0.5, \n",
        "             title=\"Distribuição de tipos de transação\")\n",
        "figure.show()\n",
        "\n",
        "# ================= Checking correlation =================\n",
        "correlation = df_info.corr()\n",
        "print('\\n\\n\\nCorrelação entre variáveis:\\n')\n",
        "print(correlation[\"isFraud\"].sort_values(ascending=False))\n",
        "\n",
        "# ================= Sklearn ML prediction =================\n",
        "\n",
        "# splitting the data\n",
        "from sklearn.model_selection import train_test_split\n",
        "x = np.array(df_info[[\"type_num\", \"amount\", \"oldbalanceOrg\", \"newbalanceOrig\"]]) # variaveis independentes\n",
        "y = np.array(df_info[[\"isFraud_str\"]]) # variaveis dependentes\n",
        "\n",
        "# training a machine learning model\n",
        "from sklearn.tree import DecisionTreeClassifier\n",
        "xtrain, xtest, ytrain, ytest = train_test_split(x, y, test_size=0.10, random_state=42)\n",
        "model = DecisionTreeClassifier()\n",
        "model.fit(xtrain, ytrain)\n",
        "print('\\n\\n\\nScore do modelo:\\n')\n",
        "print(model.score(xtest, ytest))\n",
        "\n",
        "# prediction\n",
        "#features = [type, amount, oldbalanceOrg, newbalanceOrig]\n",
        "features = np.array([[4, 9000.60, 9000.60, 0.0]])\n",
        "print('\\nPredict para TRANSFER, amount $9000.60, oldbalanceOrg $9000.60, newbalanceOrig $0.00:\\n')\n",
        "print(model.predict(features))"
      ],
      "metadata": {
        "id": "PUxJ1nOD9Nba",
        "colab": {
          "base_uri": "https://localhost:8080/",
          "height": 375
        },
        "outputId": "2e970884-ef70-4bf4-8160-1267d1b2d32d"
      },
      "execution_count": 80,
      "outputs": [
        {
          "output_type": "error",
          "ename": "AttributeError",
          "evalue": "ignored",
          "traceback": [
            "\u001b[0;31m---------------------------------------------------------------------------\u001b[0m",
            "\u001b[0;31mAttributeError\u001b[0m                            Traceback (most recent call last)",
            "\u001b[0;32m<ipython-input-80-46c378da7866>\u001b[0m in \u001b[0;36m<module>\u001b[0;34m\u001b[0m\n\u001b[0;32m----> 1\u001b[0;31m \u001b[0mdf_info\u001b[0m \u001b[0;34m=\u001b[0m \u001b[0mdf_clean\u001b[0m\u001b[0;34m.\u001b[0m\u001b[0mcopy\u001b[0m\u001b[0;34m(\u001b[0m\u001b[0;34m)\u001b[0m\u001b[0;34m\u001b[0m\u001b[0;34m\u001b[0m\u001b[0m\n\u001b[0m\u001b[1;32m      2\u001b[0m \u001b[0;34m\u001b[0m\u001b[0m\n\u001b[1;32m      3\u001b[0m \u001b[0;31m# pie chart\u001b[0m\u001b[0;34m\u001b[0m\u001b[0;34m\u001b[0m\u001b[0;34m\u001b[0m\u001b[0m\n\u001b[1;32m      4\u001b[0m \u001b[0mtransaction_type\u001b[0m \u001b[0;34m=\u001b[0m \u001b[0mdf_info\u001b[0m\u001b[0;34m[\u001b[0m\u001b[0;34m\"type\"\u001b[0m\u001b[0;34m]\u001b[0m\u001b[0;34m.\u001b[0m\u001b[0mvalue_counts\u001b[0m\u001b[0;34m(\u001b[0m\u001b[0;34m)\u001b[0m\u001b[0;34m\u001b[0m\u001b[0;34m\u001b[0m\u001b[0m\n\u001b[1;32m      5\u001b[0m \u001b[0mtransactions\u001b[0m \u001b[0;34m=\u001b[0m \u001b[0mtransaction_type\u001b[0m\u001b[0;34m.\u001b[0m\u001b[0mindex\u001b[0m\u001b[0;34m\u001b[0m\u001b[0;34m\u001b[0m\u001b[0m\n",
            "\u001b[0;32m/content/drive/MyDrive/..Python_Codes/Projeto_fraude_compras_online/content/spark-3.3.1-bin-hadoop3/python/pyspark/sql/dataframe.py\u001b[0m in \u001b[0;36m__getattr__\u001b[0;34m(self, name)\u001b[0m\n\u001b[1;32m   1986\u001b[0m         \"\"\"\n\u001b[1;32m   1987\u001b[0m         \u001b[0;32mif\u001b[0m \u001b[0mname\u001b[0m \u001b[0;32mnot\u001b[0m \u001b[0;32min\u001b[0m \u001b[0mself\u001b[0m\u001b[0;34m.\u001b[0m\u001b[0mcolumns\u001b[0m\u001b[0;34m:\u001b[0m\u001b[0;34m\u001b[0m\u001b[0;34m\u001b[0m\u001b[0m\n\u001b[0;32m-> 1988\u001b[0;31m             raise AttributeError(\n\u001b[0m\u001b[1;32m   1989\u001b[0m                 \u001b[0;34m\"'%s' object has no attribute '%s'\"\u001b[0m \u001b[0;34m%\u001b[0m \u001b[0;34m(\u001b[0m\u001b[0mself\u001b[0m\u001b[0;34m.\u001b[0m\u001b[0m__class__\u001b[0m\u001b[0;34m.\u001b[0m\u001b[0m__name__\u001b[0m\u001b[0;34m,\u001b[0m \u001b[0mname\u001b[0m\u001b[0;34m)\u001b[0m\u001b[0;34m\u001b[0m\u001b[0;34m\u001b[0m\u001b[0m\n\u001b[1;32m   1990\u001b[0m             )\n",
            "\u001b[0;31mAttributeError\u001b[0m: 'DataFrame' object has no attribute 'copy'"
          ]
        }
      ]
    },
    {
      "cell_type": "markdown",
      "source": [
        "## PLOT DE RESULTADOS\n"
      ],
      "metadata": {
        "id": "JtqwRcRc8X0M"
      }
    },
    {
      "cell_type": "code",
      "source": [],
      "metadata": {
        "id": "elpF3zid9OLi"
      },
      "execution_count": null,
      "outputs": []
    },
    {
      "cell_type": "markdown",
      "source": [
        "## ATUAÇÃO COM OUTSIDERS"
      ],
      "metadata": {
        "id": "MLBcpcGc8fF2"
      }
    },
    {
      "cell_type": "code",
      "source": [],
      "metadata": {
        "id": "dfxiDl3m9Ov6"
      },
      "execution_count": null,
      "outputs": []
    }
  ]
}